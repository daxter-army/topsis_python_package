{
 "cells": [
  {
   "cell_type": "markdown",
   "metadata": {},
   "source": [
    "# Topsis"
   ]
  },
  {
   "cell_type": "code",
   "execution_count": 275,
   "metadata": {},
   "outputs": [],
   "source": [
    "# Number of columns, number of weights and number of impacts should be same before proceeding\n",
    "\n",
    "# importing libraries\n",
    "import pandas as pd\n",
    "import numpy as np\n",
    "import math as m"
   ]
  },
  {
   "cell_type": "code",
   "execution_count": 276,
   "metadata": {},
   "outputs": [
    {
     "name": "stdout",
     "output_type": "stream",
     "text": [
      "[[15 19  4  9  2]\n",
      " [ 8 11  3  2  4]\n",
      " [ 6  9 10 18 13]\n",
      " [12  4 20  9 18]\n",
      " [11 13 11 10 13]]\n",
      "Shape : 5x5\n"
     ]
    }
   ],
   "source": [
    "# importing dataset\n",
    "dataset = pd.read_csv('data.csv')\n",
    "dataset = dataset.iloc[:,1:].values\n",
    "row, col = dataset.shape\n",
    "print(dataset)\n",
    "print(\"Shape : {}x{}\".format(row, col))\n",
    "\n",
    "# for converting into dataframe\n",
    "# dt = pd.DataFrame(dataset)"
   ]
  },
  {
   "cell_type": "code",
   "execution_count": 277,
   "metadata": {},
   "outputs": [],
   "source": [
    "# defining weights\n",
    "# should only increase if number of columns increase\n",
    "w = [1, 6, 1, 2, 1]"
   ]
  },
  {
   "cell_type": "code",
   "execution_count": 279,
   "metadata": {},
   "outputs": [
    {
     "name": "stdout",
     "output_type": "stream",
     "text": [
      "Column-wise root of sum of squares [24.2899, 27.3496, 25.4165, 24.2899, 26.1151]\n",
      "normalized matrix\n",
      "[[0.6175 0.6947 0.1574 0.3705 0.0766]\n",
      " [0.3294 0.4022 0.118  0.0823 0.1532]\n",
      " [0.247  0.3291 0.3934 0.741  0.4978]\n",
      " [0.494  0.1463 0.7869 0.3705 0.6893]\n",
      " [0.4529 0.4753 0.4328 0.4117 0.4978]]\n"
     ]
    }
   ],
   "source": [
    "# Step 1 => calculating normalized matrix\n",
    "sumOfSquares = []\n",
    "for j in range(0, col):\n",
    "    sum = 0\n",
    "    for i in range(0, row):\n",
    "        value = dataset[i][j]\n",
    "        sum = sum + m.pow(value,2)\n",
    "    sqrtOfSum = m.sqrt(sum)\n",
    "    sqrtOfSum = round(sqrtOfSum, 4)\n",
    "    sumOfSquares.append(sqrtOfSum)\n",
    "print('Column-wise root of sum of squares', sumOfSquares)\n",
    "\n",
    "# creating a new 2D array\n",
    "dataset2 = [[0 for i in range(col)] for j in range(row)] \n",
    "\n",
    "# dividing by the respected values\n",
    "for j in range(0, col):\n",
    "    for i in range(0, row):\n",
    "        temp = dataset[i][j]/sumOfSquares[j]\n",
    "        dataset2[i][j] = round(temp, 4)\n",
    "\n",
    "print('normalized matrix')\n",
    "print(np.matrix(dataset2))"
   ]
  },
  {
   "cell_type": "code",
   "execution_count": 280,
   "metadata": {},
   "outputs": [
    {
     "name": "stdout",
     "output_type": "stream",
     "text": [
      "weighted normalized matrix\n",
      "[[0.6175 4.1682 0.1574 0.741  0.0766]\n",
      " [0.3294 2.4132 0.118  0.1646 0.1532]\n",
      " [0.247  1.9746 0.3934 1.482  0.4978]\n",
      " [0.494  0.8778 0.7869 0.741  0.6893]\n",
      " [0.4529 2.8518 0.4328 0.8234 0.4978]]\n"
     ]
    }
   ],
   "source": [
    "# Step 2 => calculating weighted normalized matrix\n",
    "for j in range(0, col):\n",
    "    for i in range(0, row):\n",
    "        temp2 = dataset2[i][j]*w[j]\n",
    "        dataset2[i][j] = round(temp2, 4)\n",
    "\n",
    "print('weighted normalized matrix')\n",
    "print(np.matrix(dataset2))"
   ]
  },
  {
   "cell_type": "code",
   "execution_count": 281,
   "metadata": {},
   "outputs": [
    {
     "name": "stdout",
     "output_type": "stream",
     "text": [
      "Ideal Best Values (r)\n",
      " [0.6175, 4.1682, 0.118, 1.482, 0.0766]\n",
      "Ideal Worst Values (r)\n",
      " [0.247, 0.8778, 0.7869, 0.1646, 0.6893]\n"
     ]
    }
   ],
   "source": [
    "# Step 3 => calculating ideal best and ideal worst\n",
    "# length of impacts should only increase if number of coulmns increase\n",
    "impacts = ['+', '+', '-', '+', '-']\n",
    "\n",
    "bestValues = []\n",
    "worstValues = []\n",
    "\n",
    "dataset3 = pd.DataFrame(dataset2)\n",
    "maxValues = dataset3.max()\n",
    "minValues = dataset3.min()\n",
    "\n",
    "for num in range(0, len(impacts)):\n",
    "    if impacts[num] == '+':\n",
    "        bestValues.append(maxValues[num])\n",
    "        worstValues.append(minValues[num])\n",
    "    else:\n",
    "        bestValues.append(minValues[num])\n",
    "        worstValues.append(maxValues[num])\n",
    "\n",
    "# should only increase if number of columns increase\n",
    "print('Ideal Best Values (r)\\n', bestValues)\n",
    "# print('')\n",
    "print('Ideal Worst Values (r)\\n', worstValues)"
   ]
  },
  {
   "cell_type": "code",
   "execution_count": 282,
   "metadata": {},
   "outputs": [
    {
     "name": "stdout",
     "output_type": "stream",
     "text": [
      "SPlus (c)\n",
      " [0.742, 2.2146, 2.2809, 3.4948, 1.5717]\n",
      "SMinus (c)\n",
      " [3.4739, 1.7604, 1.7692, 0.6271, 2.1296]\n"
     ]
    }
   ],
   "source": [
    "# Step 4 => calculating euclidean distance from ideal bests and ideal worsts\n",
    "SPlus = []\n",
    "SMinus = []\n",
    "\n",
    "# print(dataset2)\n",
    "\n",
    "for i in range(0, row):\n",
    "    bestSum = 0\n",
    "    worstSum = 0\n",
    "    for j in range(0, col):\n",
    "        bestSum = bestSum + m.pow((dataset2[i][j]-bestValues[j]),2)\n",
    "        worstSum = worstSum + m.pow((dataset2[i][j]-worstValues[j]), 2)\n",
    "    SPlus.append(round(m.sqrt(bestSum), 4))\n",
    "    SMinus.append(round(m.sqrt(worstSum), 4))\n",
    "    \n",
    "# should only increase if number of rows increase\n",
    "print('SPlus (c)\\n', SPlus)\n",
    "# print('')\n",
    "print('SMinus (c)\\n', SMinus)"
   ]
  },
  {
   "cell_type": "code",
   "execution_count": 283,
   "metadata": {},
   "outputs": [
    {
     "name": "stdout",
     "output_type": "stream",
     "text": [
      "Performance Score (c)\n",
      " [0.824, 0.4429, 0.4368, 0.1521, 0.5754]\n"
     ]
    }
   ],
   "source": [
    "# Step 5 => calculating performance score\n",
    "pi = []\n",
    "for index in range(0, row):\n",
    "    pi.append(round(SMinus[index] / (SMinus[index] + SPlus[index]), 4))\n",
    "\n",
    "# should only increase if number of rows increase\n",
    "print('Performance Score (c)\\n', pi)"
   ]
  },
  {
   "cell_type": "code",
   "execution_count": 284,
   "metadata": {},
   "outputs": [
    {
     "name": "stdout",
     "output_type": "stream",
     "text": [
      "Performance Score (c)\n",
      " [0.824, 0.4429, 0.4368, 0.1521, 0.5754]\n",
      "Rank (c)\n",
      " [1, 3, 4, 5, 2]\n"
     ]
    }
   ],
   "source": [
    "# Step 6 => calculating rank\n",
    "rank = []\n",
    "sortedPi = sorted(pi, reverse = True)\n",
    "\n",
    "for x in range(0, len(pi)):\n",
    "    for y in range(0, len(sortedPi)):\n",
    "        if pi[x] == sortedPi[y]:\n",
    "            rank.append(y+1)\n",
    "            \n",
    "# should only increase if number of rows increase\n",
    "print('Performance Score (c)\\n', pi)\n",
    "# print('Performance Score (in decreased order)\\n', sortedPi)\n",
    "print('Rank (c)\\n', rank)"
   ]
  }
 ],
 "metadata": {
  "kernelspec": {
   "display_name": "Python 3",
   "language": "python",
   "name": "python3"
  },
  "language_info": {
   "codemirror_mode": {
    "name": "ipython",
    "version": 3
   },
   "file_extension": ".py",
   "mimetype": "text/x-python",
   "name": "python",
   "nbconvert_exporter": "python",
   "pygments_lexer": "ipython3",
   "version": "3.8.2"
  }
 },
 "nbformat": 4,
 "nbformat_minor": 4
}
